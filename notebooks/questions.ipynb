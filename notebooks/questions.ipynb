{
 "cells": [
  {
   "cell_type": "code",
   "execution_count": 1,
   "id": "c498b2ba-230d-43c5-b0fe-ff70db789112",
   "metadata": {},
   "outputs": [],
   "source": [
    "import pandas as pd\n",
    "import numpy as np\n",
    "import matplotlib.pyplot as plt"
   ]
  },
  {
   "cell_type": "markdown",
   "id": "5ebecced-f90d-47ac-aa9e-4bb20298a084",
   "metadata": {},
   "source": [
    "## Research Question 1\n",
    "### What is the number and proportion of GitHub repositories that are using GitHub Actions workflows, categorized by their main programming language?"
   ]
  },
  {
   "cell_type": "code",
   "execution_count": 2,
   "id": "4e076225-56db-4a8f-b081-8befc24c14f2",
   "metadata": {
    "tags": []
   },
   "outputs": [
    {
     "data": {
      "text/plain": "                            repository  branch    language  \\\n0      00-evan/shattered-pixel-dungeon  master        Java   \n1                  0015/ideasnprojects  master         C++   \n2                     0015/thatproject  master           C   \n3                  007gzs/dingtalk-sdk  master      Python   \n4                       007gzs/meeting  master      Python   \n...                                ...     ...         ...   \n69142            zzzprojects/sqlfiddle  master  JavaScript   \n69143           zzzprojects/sqlfiddle2  master  JavaScript   \n69144           zzzprojects/sqlfiddle3  master  JavaScript   \n69145   zzzprojects/z.extensionmethods  master          C#   \n69146                      zzzzbw/fame  master        Java   \n\n                   created              updated  \\\n0      2014-07-31 21:56:31  2022-01-13 23:41:31   \n1      2019-07-04 08:16:56  2021-03-10 05:31:05   \n2      2019-07-04 08:16:56  2021-12-16 20:49:19   \n3      2018-05-07 09:42:31  2021-06-03 12:49:51   \n4      2019-07-02 09:14:00  2021-04-13 05:49:08   \n...                    ...                  ...   \n69142  2012-01-18 08:25:59  2021-04-12 19:20:03   \n69143  2014-04-20 22:44:28  2021-04-12 19:20:50   \n69144  2016-12-26 19:27:27  2021-04-12 19:27:04   \n69145  2015-03-03 14:49:23  2021-04-06 14:42:44   \n69146  2017-08-07 13:44:22  2021-11-25 14:45:04   \n\n                                         commit  stars  watchers  forks  \\\n0      5d1a2dce6b554b40f6737ead45d411fd98f4c67d   1803        83    580   \n1      bd09568e05e2790ce3f72905995e763600ff3903    332        39    253   \n2      69c85b76c285e9b532b2237fbd4244fd6e7e7820    629        68    447   \n3      7979da2e259fdbc571728cae2425a04dbc65850a    148        14     48   \n4      a1bea997e2849c03e2a3cfa724d036b6769e1abb    167         6     61   \n...                                         ...    ...       ...    ...   \n69142  b0014899c1701e017bd87f826e8e369d163ef574    272        29     53   \n69143  eb6694a8d8f4fcdda82b88bb0f426eb978c304e5    192        17     39   \n69144  d4283d80b161ede014e49ee177e7d98098f6d583    245        16     44   \n69145  bdbec3f0924a01e9f638f1ec3c975bd9ff13beb0    844        95    214   \n69146  5305c0f46d97a74823e4335f0062254a1b14b1e4    178        13     71   \n\n        size  branches  commits  contributors  issues   prs  \n0      69470         1     5165           2.0   859.0  33.0  \n1       1315         1      144           2.0    11.0   7.0  \n2       2160         5      208           2.0     0.0  13.0  \n3        944         1      131           7.0    38.0  13.0  \n4       1051         2      104           2.0    17.0   1.0  \n...      ...       ...      ...           ...     ...   ...  \n69142  18666         9      530           3.0    76.0   4.0  \n69143   2035         2      192           2.0    32.0   3.0  \n69144   1717         2      196           3.0    13.0   6.0  \n69145   6590         1      127           3.0    19.0  14.0  \n69146   7320         3      346           3.0    36.0  13.0  \n\n[69147 rows x 15 columns]",
      "text/html": "<div>\n<style scoped>\n    .dataframe tbody tr th:only-of-type {\n        vertical-align: middle;\n    }\n\n    .dataframe tbody tr th {\n        vertical-align: top;\n    }\n\n    .dataframe thead th {\n        text-align: right;\n    }\n</style>\n<table border=\"1\" class=\"dataframe\">\n  <thead>\n    <tr style=\"text-align: right;\">\n      <th></th>\n      <th>repository</th>\n      <th>branch</th>\n      <th>language</th>\n      <th>created</th>\n      <th>updated</th>\n      <th>commit</th>\n      <th>stars</th>\n      <th>watchers</th>\n      <th>forks</th>\n      <th>size</th>\n      <th>branches</th>\n      <th>commits</th>\n      <th>contributors</th>\n      <th>issues</th>\n      <th>prs</th>\n    </tr>\n  </thead>\n  <tbody>\n    <tr>\n      <th>0</th>\n      <td>00-evan/shattered-pixel-dungeon</td>\n      <td>master</td>\n      <td>Java</td>\n      <td>2014-07-31 21:56:31</td>\n      <td>2022-01-13 23:41:31</td>\n      <td>5d1a2dce6b554b40f6737ead45d411fd98f4c67d</td>\n      <td>1803</td>\n      <td>83</td>\n      <td>580</td>\n      <td>69470</td>\n      <td>1</td>\n      <td>5165</td>\n      <td>2.0</td>\n      <td>859.0</td>\n      <td>33.0</td>\n    </tr>\n    <tr>\n      <th>1</th>\n      <td>0015/ideasnprojects</td>\n      <td>master</td>\n      <td>C++</td>\n      <td>2019-07-04 08:16:56</td>\n      <td>2021-03-10 05:31:05</td>\n      <td>bd09568e05e2790ce3f72905995e763600ff3903</td>\n      <td>332</td>\n      <td>39</td>\n      <td>253</td>\n      <td>1315</td>\n      <td>1</td>\n      <td>144</td>\n      <td>2.0</td>\n      <td>11.0</td>\n      <td>7.0</td>\n    </tr>\n    <tr>\n      <th>2</th>\n      <td>0015/thatproject</td>\n      <td>master</td>\n      <td>C</td>\n      <td>2019-07-04 08:16:56</td>\n      <td>2021-12-16 20:49:19</td>\n      <td>69c85b76c285e9b532b2237fbd4244fd6e7e7820</td>\n      <td>629</td>\n      <td>68</td>\n      <td>447</td>\n      <td>2160</td>\n      <td>5</td>\n      <td>208</td>\n      <td>2.0</td>\n      <td>0.0</td>\n      <td>13.0</td>\n    </tr>\n    <tr>\n      <th>3</th>\n      <td>007gzs/dingtalk-sdk</td>\n      <td>master</td>\n      <td>Python</td>\n      <td>2018-05-07 09:42:31</td>\n      <td>2021-06-03 12:49:51</td>\n      <td>7979da2e259fdbc571728cae2425a04dbc65850a</td>\n      <td>148</td>\n      <td>14</td>\n      <td>48</td>\n      <td>944</td>\n      <td>1</td>\n      <td>131</td>\n      <td>7.0</td>\n      <td>38.0</td>\n      <td>13.0</td>\n    </tr>\n    <tr>\n      <th>4</th>\n      <td>007gzs/meeting</td>\n      <td>master</td>\n      <td>Python</td>\n      <td>2019-07-02 09:14:00</td>\n      <td>2021-04-13 05:49:08</td>\n      <td>a1bea997e2849c03e2a3cfa724d036b6769e1abb</td>\n      <td>167</td>\n      <td>6</td>\n      <td>61</td>\n      <td>1051</td>\n      <td>2</td>\n      <td>104</td>\n      <td>2.0</td>\n      <td>17.0</td>\n      <td>1.0</td>\n    </tr>\n    <tr>\n      <th>...</th>\n      <td>...</td>\n      <td>...</td>\n      <td>...</td>\n      <td>...</td>\n      <td>...</td>\n      <td>...</td>\n      <td>...</td>\n      <td>...</td>\n      <td>...</td>\n      <td>...</td>\n      <td>...</td>\n      <td>...</td>\n      <td>...</td>\n      <td>...</td>\n      <td>...</td>\n    </tr>\n    <tr>\n      <th>69142</th>\n      <td>zzzprojects/sqlfiddle</td>\n      <td>master</td>\n      <td>JavaScript</td>\n      <td>2012-01-18 08:25:59</td>\n      <td>2021-04-12 19:20:03</td>\n      <td>b0014899c1701e017bd87f826e8e369d163ef574</td>\n      <td>272</td>\n      <td>29</td>\n      <td>53</td>\n      <td>18666</td>\n      <td>9</td>\n      <td>530</td>\n      <td>3.0</td>\n      <td>76.0</td>\n      <td>4.0</td>\n    </tr>\n    <tr>\n      <th>69143</th>\n      <td>zzzprojects/sqlfiddle2</td>\n      <td>master</td>\n      <td>JavaScript</td>\n      <td>2014-04-20 22:44:28</td>\n      <td>2021-04-12 19:20:50</td>\n      <td>eb6694a8d8f4fcdda82b88bb0f426eb978c304e5</td>\n      <td>192</td>\n      <td>17</td>\n      <td>39</td>\n      <td>2035</td>\n      <td>2</td>\n      <td>192</td>\n      <td>2.0</td>\n      <td>32.0</td>\n      <td>3.0</td>\n    </tr>\n    <tr>\n      <th>69144</th>\n      <td>zzzprojects/sqlfiddle3</td>\n      <td>master</td>\n      <td>JavaScript</td>\n      <td>2016-12-26 19:27:27</td>\n      <td>2021-04-12 19:27:04</td>\n      <td>d4283d80b161ede014e49ee177e7d98098f6d583</td>\n      <td>245</td>\n      <td>16</td>\n      <td>44</td>\n      <td>1717</td>\n      <td>2</td>\n      <td>196</td>\n      <td>3.0</td>\n      <td>13.0</td>\n      <td>6.0</td>\n    </tr>\n    <tr>\n      <th>69145</th>\n      <td>zzzprojects/z.extensionmethods</td>\n      <td>master</td>\n      <td>C#</td>\n      <td>2015-03-03 14:49:23</td>\n      <td>2021-04-06 14:42:44</td>\n      <td>bdbec3f0924a01e9f638f1ec3c975bd9ff13beb0</td>\n      <td>844</td>\n      <td>95</td>\n      <td>214</td>\n      <td>6590</td>\n      <td>1</td>\n      <td>127</td>\n      <td>3.0</td>\n      <td>19.0</td>\n      <td>14.0</td>\n    </tr>\n    <tr>\n      <th>69146</th>\n      <td>zzzzbw/fame</td>\n      <td>master</td>\n      <td>Java</td>\n      <td>2017-08-07 13:44:22</td>\n      <td>2021-11-25 14:45:04</td>\n      <td>5305c0f46d97a74823e4335f0062254a1b14b1e4</td>\n      <td>178</td>\n      <td>13</td>\n      <td>71</td>\n      <td>7320</td>\n      <td>3</td>\n      <td>346</td>\n      <td>3.0</td>\n      <td>36.0</td>\n      <td>13.0</td>\n    </tr>\n  </tbody>\n</table>\n<p>69147 rows × 15 columns</p>\n</div>"
     },
     "execution_count": 2,
     "metadata": {},
     "output_type": "execute_result"
    }
   ],
   "source": [
    "## The first dataset we will use contains information about GitHub repositories that make use of GitHub Actions workflows.\n",
    "\n",
    "df_repositories = pd.read_csv('../datasets/repositories.csv')\n",
    "df_repositories"
   ]
  },
  {
   "cell_type": "markdown",
   "id": "870533f4-7ba6-49b3-ae5c-cfa4f2f9b1ca",
   "metadata": {},
   "source": [
    "### Requirements : \n",
    "#### 1-First, preprocess the dataset by filtering on repositories with at least 100 stars AND more than 1 contributors\n",
    "#### 2-Quantify the number of repositories, grouped by language\n",
    "    Hint: Use the groupby operation from pandas. See https://pandas.pydata.org/docs/reference/api/pandas.DataFrame.groupby.html\n",
    "#### 3-Quantify the proportion of repositories per language\n",
    "    Hint: proportion per langage = number of repositories per language / total number of repositories"
   ]
  },
  {
   "cell_type": "code",
   "execution_count": 3,
   "id": "b2f528cc-11ab-4d94-b90a-e1000fdaddb2",
   "metadata": {},
   "outputs": [
    {
     "data": {
      "text/plain": "                            repository  branch    language  \\\n0      00-evan/shattered-pixel-dungeon  master        Java   \n1                  0015/ideasnprojects  master         C++   \n2                     0015/thatproject  master           C   \n3                  007gzs/dingtalk-sdk  master      Python   \n4                       007gzs/meeting  master      Python   \n...                                ...     ...         ...   \n69142            zzzprojects/sqlfiddle  master  JavaScript   \n69143           zzzprojects/sqlfiddle2  master  JavaScript   \n69144           zzzprojects/sqlfiddle3  master  JavaScript   \n69145   zzzprojects/z.extensionmethods  master          C#   \n69146                      zzzzbw/fame  master        Java   \n\n                   created              updated  \\\n0      2014-07-31 21:56:31  2022-01-13 23:41:31   \n1      2019-07-04 08:16:56  2021-03-10 05:31:05   \n2      2019-07-04 08:16:56  2021-12-16 20:49:19   \n3      2018-05-07 09:42:31  2021-06-03 12:49:51   \n4      2019-07-02 09:14:00  2021-04-13 05:49:08   \n...                    ...                  ...   \n69142  2012-01-18 08:25:59  2021-04-12 19:20:03   \n69143  2014-04-20 22:44:28  2021-04-12 19:20:50   \n69144  2016-12-26 19:27:27  2021-04-12 19:27:04   \n69145  2015-03-03 14:49:23  2021-04-06 14:42:44   \n69146  2017-08-07 13:44:22  2021-11-25 14:45:04   \n\n                                         commit  stars  watchers  forks  \\\n0      5d1a2dce6b554b40f6737ead45d411fd98f4c67d   1803        83    580   \n1      bd09568e05e2790ce3f72905995e763600ff3903    332        39    253   \n2      69c85b76c285e9b532b2237fbd4244fd6e7e7820    629        68    447   \n3      7979da2e259fdbc571728cae2425a04dbc65850a    148        14     48   \n4      a1bea997e2849c03e2a3cfa724d036b6769e1abb    167         6     61   \n...                                         ...    ...       ...    ...   \n69142  b0014899c1701e017bd87f826e8e369d163ef574    272        29     53   \n69143  eb6694a8d8f4fcdda82b88bb0f426eb978c304e5    192        17     39   \n69144  d4283d80b161ede014e49ee177e7d98098f6d583    245        16     44   \n69145  bdbec3f0924a01e9f638f1ec3c975bd9ff13beb0    844        95    214   \n69146  5305c0f46d97a74823e4335f0062254a1b14b1e4    178        13     71   \n\n        size  branches  commits  contributors  issues   prs  \n0      69470         1     5165           2.0   859.0  33.0  \n1       1315         1      144           2.0    11.0   7.0  \n2       2160         5      208           2.0     0.0  13.0  \n3        944         1      131           7.0    38.0  13.0  \n4       1051         2      104           2.0    17.0   1.0  \n...      ...       ...      ...           ...     ...   ...  \n69142  18666         9      530           3.0    76.0   4.0  \n69143   2035         2      192           2.0    32.0   3.0  \n69144   1717         2      196           3.0    13.0   6.0  \n69145   6590         1      127           3.0    19.0  14.0  \n69146   7320         3      346           3.0    36.0  13.0  \n\n[66069 rows x 15 columns]",
      "text/html": "<div>\n<style scoped>\n    .dataframe tbody tr th:only-of-type {\n        vertical-align: middle;\n    }\n\n    .dataframe tbody tr th {\n        vertical-align: top;\n    }\n\n    .dataframe thead th {\n        text-align: right;\n    }\n</style>\n<table border=\"1\" class=\"dataframe\">\n  <thead>\n    <tr style=\"text-align: right;\">\n      <th></th>\n      <th>repository</th>\n      <th>branch</th>\n      <th>language</th>\n      <th>created</th>\n      <th>updated</th>\n      <th>commit</th>\n      <th>stars</th>\n      <th>watchers</th>\n      <th>forks</th>\n      <th>size</th>\n      <th>branches</th>\n      <th>commits</th>\n      <th>contributors</th>\n      <th>issues</th>\n      <th>prs</th>\n    </tr>\n  </thead>\n  <tbody>\n    <tr>\n      <th>0</th>\n      <td>00-evan/shattered-pixel-dungeon</td>\n      <td>master</td>\n      <td>Java</td>\n      <td>2014-07-31 21:56:31</td>\n      <td>2022-01-13 23:41:31</td>\n      <td>5d1a2dce6b554b40f6737ead45d411fd98f4c67d</td>\n      <td>1803</td>\n      <td>83</td>\n      <td>580</td>\n      <td>69470</td>\n      <td>1</td>\n      <td>5165</td>\n      <td>2.0</td>\n      <td>859.0</td>\n      <td>33.0</td>\n    </tr>\n    <tr>\n      <th>1</th>\n      <td>0015/ideasnprojects</td>\n      <td>master</td>\n      <td>C++</td>\n      <td>2019-07-04 08:16:56</td>\n      <td>2021-03-10 05:31:05</td>\n      <td>bd09568e05e2790ce3f72905995e763600ff3903</td>\n      <td>332</td>\n      <td>39</td>\n      <td>253</td>\n      <td>1315</td>\n      <td>1</td>\n      <td>144</td>\n      <td>2.0</td>\n      <td>11.0</td>\n      <td>7.0</td>\n    </tr>\n    <tr>\n      <th>2</th>\n      <td>0015/thatproject</td>\n      <td>master</td>\n      <td>C</td>\n      <td>2019-07-04 08:16:56</td>\n      <td>2021-12-16 20:49:19</td>\n      <td>69c85b76c285e9b532b2237fbd4244fd6e7e7820</td>\n      <td>629</td>\n      <td>68</td>\n      <td>447</td>\n      <td>2160</td>\n      <td>5</td>\n      <td>208</td>\n      <td>2.0</td>\n      <td>0.0</td>\n      <td>13.0</td>\n    </tr>\n    <tr>\n      <th>3</th>\n      <td>007gzs/dingtalk-sdk</td>\n      <td>master</td>\n      <td>Python</td>\n      <td>2018-05-07 09:42:31</td>\n      <td>2021-06-03 12:49:51</td>\n      <td>7979da2e259fdbc571728cae2425a04dbc65850a</td>\n      <td>148</td>\n      <td>14</td>\n      <td>48</td>\n      <td>944</td>\n      <td>1</td>\n      <td>131</td>\n      <td>7.0</td>\n      <td>38.0</td>\n      <td>13.0</td>\n    </tr>\n    <tr>\n      <th>4</th>\n      <td>007gzs/meeting</td>\n      <td>master</td>\n      <td>Python</td>\n      <td>2019-07-02 09:14:00</td>\n      <td>2021-04-13 05:49:08</td>\n      <td>a1bea997e2849c03e2a3cfa724d036b6769e1abb</td>\n      <td>167</td>\n      <td>6</td>\n      <td>61</td>\n      <td>1051</td>\n      <td>2</td>\n      <td>104</td>\n      <td>2.0</td>\n      <td>17.0</td>\n      <td>1.0</td>\n    </tr>\n    <tr>\n      <th>...</th>\n      <td>...</td>\n      <td>...</td>\n      <td>...</td>\n      <td>...</td>\n      <td>...</td>\n      <td>...</td>\n      <td>...</td>\n      <td>...</td>\n      <td>...</td>\n      <td>...</td>\n      <td>...</td>\n      <td>...</td>\n      <td>...</td>\n      <td>...</td>\n      <td>...</td>\n    </tr>\n    <tr>\n      <th>69142</th>\n      <td>zzzprojects/sqlfiddle</td>\n      <td>master</td>\n      <td>JavaScript</td>\n      <td>2012-01-18 08:25:59</td>\n      <td>2021-04-12 19:20:03</td>\n      <td>b0014899c1701e017bd87f826e8e369d163ef574</td>\n      <td>272</td>\n      <td>29</td>\n      <td>53</td>\n      <td>18666</td>\n      <td>9</td>\n      <td>530</td>\n      <td>3.0</td>\n      <td>76.0</td>\n      <td>4.0</td>\n    </tr>\n    <tr>\n      <th>69143</th>\n      <td>zzzprojects/sqlfiddle2</td>\n      <td>master</td>\n      <td>JavaScript</td>\n      <td>2014-04-20 22:44:28</td>\n      <td>2021-04-12 19:20:50</td>\n      <td>eb6694a8d8f4fcdda82b88bb0f426eb978c304e5</td>\n      <td>192</td>\n      <td>17</td>\n      <td>39</td>\n      <td>2035</td>\n      <td>2</td>\n      <td>192</td>\n      <td>2.0</td>\n      <td>32.0</td>\n      <td>3.0</td>\n    </tr>\n    <tr>\n      <th>69144</th>\n      <td>zzzprojects/sqlfiddle3</td>\n      <td>master</td>\n      <td>JavaScript</td>\n      <td>2016-12-26 19:27:27</td>\n      <td>2021-04-12 19:27:04</td>\n      <td>d4283d80b161ede014e49ee177e7d98098f6d583</td>\n      <td>245</td>\n      <td>16</td>\n      <td>44</td>\n      <td>1717</td>\n      <td>2</td>\n      <td>196</td>\n      <td>3.0</td>\n      <td>13.0</td>\n      <td>6.0</td>\n    </tr>\n    <tr>\n      <th>69145</th>\n      <td>zzzprojects/z.extensionmethods</td>\n      <td>master</td>\n      <td>C#</td>\n      <td>2015-03-03 14:49:23</td>\n      <td>2021-04-06 14:42:44</td>\n      <td>bdbec3f0924a01e9f638f1ec3c975bd9ff13beb0</td>\n      <td>844</td>\n      <td>95</td>\n      <td>214</td>\n      <td>6590</td>\n      <td>1</td>\n      <td>127</td>\n      <td>3.0</td>\n      <td>19.0</td>\n      <td>14.0</td>\n    </tr>\n    <tr>\n      <th>69146</th>\n      <td>zzzzbw/fame</td>\n      <td>master</td>\n      <td>Java</td>\n      <td>2017-08-07 13:44:22</td>\n      <td>2021-11-25 14:45:04</td>\n      <td>5305c0f46d97a74823e4335f0062254a1b14b1e4</td>\n      <td>178</td>\n      <td>13</td>\n      <td>71</td>\n      <td>7320</td>\n      <td>3</td>\n      <td>346</td>\n      <td>3.0</td>\n      <td>36.0</td>\n      <td>13.0</td>\n    </tr>\n  </tbody>\n</table>\n<p>66069 rows × 15 columns</p>\n</div>"
     },
     "execution_count": 3,
     "metadata": {},
     "output_type": "execute_result"
    }
   ],
   "source": [
    "f = df_repositories[df_repositories['stars']>100]\n",
    "f = df_repositories[df_repositories['contributors']>1]\n",
    "f"
   ]
  },
  {
   "cell_type": "code",
   "execution_count": 4,
   "id": "c19a2f42-569a-4b14-8268-db56a17995f3",
   "metadata": {},
   "outputs": [
    {
     "data": {
      "text/plain": "language\nC               6.193525\nC#              5.156730\nC++             8.150570\nGo              7.328702\nJava            8.657616\nJavaScript     19.770240\nKotlin          1.571085\nObjective-C     0.955062\nPHP             5.925623\nPython         17.749625\nRuby            3.883818\nShell           3.269309\nSmalltalk       0.015136\nSwift           2.011533\nTypeScript      9.361425\ndtype: float64"
     },
     "execution_count": 4,
     "metadata": {},
     "output_type": "execute_result"
    }
   ],
   "source": [
    "g = f.groupby(['language']).size()\n",
    "h = f.groupby(['language']).size().sum()\n",
    "(g/h) * 100"
   ]
  },
  {
   "cell_type": "code",
   "execution_count": 5,
   "id": "d4be220f-5d05-4aa4-845a-34af3e2bde50",
   "metadata": {},
   "outputs": [
    {
     "data": {
      "text/plain": "language\nC              0.412902\nC#             0.343782\nC++            0.543371\nGo             0.488580\nJava           0.577174\nJavaScript     1.318016\nKotlin         0.104739\nObjective-C    0.063671\nPHP            0.395042\nPython         1.183308\nRuby           0.258921\nShell          0.217954\nSmalltalk      0.001009\nSwift          0.134102\nTypeScript     0.624095\ndtype: float64"
     },
     "execution_count": 5,
     "metadata": {},
     "output_type": "execute_result"
    }
   ],
   "source": [
    "a = f.groupby(['language']).size() / f.size\n",
    "a*100"
   ]
  },
  {
   "cell_type": "markdown",
   "id": "96f191f9-fb2e-48f2-b68d-8e42fb1a96d3",
   "metadata": {
    "tags": []
   },
   "source": [
    "## Research Question 2\n",
    "### What are the top 10 most frequent events that trigger workflows, and what is the proportion of workflows using them?"
   ]
  },
  {
   "cell_type": "code",
   "execution_count": 6,
   "id": "4a2b4e3d-0d1e-4da9-83e3-2c7e8aae2674",
   "metadata": {
    "tags": []
   },
   "outputs": [
    {
     "data": {
      "text/plain": "                repository            filename               name  \\\n0           0101/pipetools           tests.yml              Tests   \n1           0101/pipetools    publish_docs.yml       Publish docs   \n2       05bit/peewee-async              ci.yml                 CI   \n3      07akioni/css-render          nodejs.yml         Node.js CI   \n4      0b01001001/spectree   pythonpackage.yml     Python package   \n...                    ...                 ...                ...   \n70273       zzzeek/alembic      run-on-pr.yaml  Run tests on a pr   \n70274    zzzeek/sqlalchemy       run-test.yaml          Run tests   \n70275    zzzeek/sqlalchemy      run-on-pr.yaml  Run tests on a pr   \n70276    zzzeek/sqlalchemy  create-wheels.yaml       Create wheel   \n70277          zzzm/hostsx            main.yml             Deploy   \n\n                        events  jobs  \n0           push, pull_request     2  \n1                         push     1  \n2           push, pull_request     1  \n3           push, pull_request     1  \n4           pull_request, push     2  \n...                        ...   ...  \n70273             pull_request     2  \n70274                     push     4  \n70275             pull_request     3  \n70276                  release     3  \n70277  push, workflow_dispatch     1  \n\n[70278 rows x 5 columns]",
      "text/html": "<div>\n<style scoped>\n    .dataframe tbody tr th:only-of-type {\n        vertical-align: middle;\n    }\n\n    .dataframe tbody tr th {\n        vertical-align: top;\n    }\n\n    .dataframe thead th {\n        text-align: right;\n    }\n</style>\n<table border=\"1\" class=\"dataframe\">\n  <thead>\n    <tr style=\"text-align: right;\">\n      <th></th>\n      <th>repository</th>\n      <th>filename</th>\n      <th>name</th>\n      <th>events</th>\n      <th>jobs</th>\n    </tr>\n  </thead>\n  <tbody>\n    <tr>\n      <th>0</th>\n      <td>0101/pipetools</td>\n      <td>tests.yml</td>\n      <td>Tests</td>\n      <td>push, pull_request</td>\n      <td>2</td>\n    </tr>\n    <tr>\n      <th>1</th>\n      <td>0101/pipetools</td>\n      <td>publish_docs.yml</td>\n      <td>Publish docs</td>\n      <td>push</td>\n      <td>1</td>\n    </tr>\n    <tr>\n      <th>2</th>\n      <td>05bit/peewee-async</td>\n      <td>ci.yml</td>\n      <td>CI</td>\n      <td>push, pull_request</td>\n      <td>1</td>\n    </tr>\n    <tr>\n      <th>3</th>\n      <td>07akioni/css-render</td>\n      <td>nodejs.yml</td>\n      <td>Node.js CI</td>\n      <td>push, pull_request</td>\n      <td>1</td>\n    </tr>\n    <tr>\n      <th>4</th>\n      <td>0b01001001/spectree</td>\n      <td>pythonpackage.yml</td>\n      <td>Python package</td>\n      <td>pull_request, push</td>\n      <td>2</td>\n    </tr>\n    <tr>\n      <th>...</th>\n      <td>...</td>\n      <td>...</td>\n      <td>...</td>\n      <td>...</td>\n      <td>...</td>\n    </tr>\n    <tr>\n      <th>70273</th>\n      <td>zzzeek/alembic</td>\n      <td>run-on-pr.yaml</td>\n      <td>Run tests on a pr</td>\n      <td>pull_request</td>\n      <td>2</td>\n    </tr>\n    <tr>\n      <th>70274</th>\n      <td>zzzeek/sqlalchemy</td>\n      <td>run-test.yaml</td>\n      <td>Run tests</td>\n      <td>push</td>\n      <td>4</td>\n    </tr>\n    <tr>\n      <th>70275</th>\n      <td>zzzeek/sqlalchemy</td>\n      <td>run-on-pr.yaml</td>\n      <td>Run tests on a pr</td>\n      <td>pull_request</td>\n      <td>3</td>\n    </tr>\n    <tr>\n      <th>70276</th>\n      <td>zzzeek/sqlalchemy</td>\n      <td>create-wheels.yaml</td>\n      <td>Create wheel</td>\n      <td>release</td>\n      <td>3</td>\n    </tr>\n    <tr>\n      <th>70277</th>\n      <td>zzzm/hostsx</td>\n      <td>main.yml</td>\n      <td>Deploy</td>\n      <td>push, workflow_dispatch</td>\n      <td>1</td>\n    </tr>\n  </tbody>\n</table>\n<p>70278 rows × 5 columns</p>\n</div>"
     },
     "execution_count": 6,
     "metadata": {},
     "output_type": "execute_result"
    }
   ],
   "source": [
    "## The second dataset we will use contains information about GitHub workflows, each reposity may define one or more workflows.\n",
    "\n",
    "df_workflows = pd.read_csv('../datasets/workflows.csv')\n",
    "df_workflows"
   ]
  },
  {
   "cell_type": "markdown",
   "id": "ddd141f7-c2c5-4bc1-830d-54c781068063",
   "metadata": {},
   "source": [
    "### Requirements : \n",
    "#### 1-Split the events column (containig the triggers) and explode it \n",
    "    Hint: For the split function, see https://www.geeksforgeeks.org/python-string-split/\n",
    "    For the explode function, see https://pandas.pydata.org/docs/reference/api/pandas.DataFrame.explode.html\n",
    "#### 2-Quantify the number of workflows grouped by event\n",
    "#### 3-Quantify the proportion of workflows grouped by event\n",
    "    Hint: proportion per event = number of workflows per event / total number of workflows\n",
    "#### 4-Sort all events in decreasing order of proportion\n",
    "#### 5-Using the order of step 4, quantify the cumulative proportion of workflows\n",
    "    Hint: The cumulative proportion is calculated by dividing the cumulative frequency by the total frequency.\n",
    "    See, for example, https://www.geeksforgeeks.org/cumulative-percentage-of-a-column-in-pandas-python/"
   ]
  },
  {
   "cell_type": "code",
   "execution_count": 7,
   "id": "20aa3c92-1802-4dce-9050-6c14b0f6c1d6",
   "metadata": {},
   "outputs": [
    {
     "data": {
      "text/plain": "                repository            filename               name  \\\n0           0101/pipetools           tests.yml              Tests   \n1           0101/pipetools    publish_docs.yml       Publish docs   \n2       05bit/peewee-async              ci.yml                 CI   \n3      07akioni/css-render          nodejs.yml         Node.js CI   \n4      0b01001001/spectree   pythonpackage.yml     Python package   \n...                    ...                 ...                ...   \n70273       zzzeek/alembic      run-on-pr.yaml  Run tests on a pr   \n70274    zzzeek/sqlalchemy       run-test.yaml          Run tests   \n70275    zzzeek/sqlalchemy      run-on-pr.yaml  Run tests on a pr   \n70276    zzzeek/sqlalchemy  create-wheels.yaml       Create wheel   \n70277          zzzm/hostsx            main.yml             Deploy   \n\n                        events  jobs  \n0           push, pull_request     2  \n1                         push     1  \n2           push, pull_request     1  \n3           push, pull_request     1  \n4           pull_request, push     2  \n...                        ...   ...  \n70273             pull_request     2  \n70274                     push     4  \n70275             pull_request     3  \n70276                  release     3  \n70277  push, workflow_dispatch     1  \n\n[70278 rows x 5 columns]",
      "text/html": "<div>\n<style scoped>\n    .dataframe tbody tr th:only-of-type {\n        vertical-align: middle;\n    }\n\n    .dataframe tbody tr th {\n        vertical-align: top;\n    }\n\n    .dataframe thead th {\n        text-align: right;\n    }\n</style>\n<table border=\"1\" class=\"dataframe\">\n  <thead>\n    <tr style=\"text-align: right;\">\n      <th></th>\n      <th>repository</th>\n      <th>filename</th>\n      <th>name</th>\n      <th>events</th>\n      <th>jobs</th>\n    </tr>\n  </thead>\n  <tbody>\n    <tr>\n      <th>0</th>\n      <td>0101/pipetools</td>\n      <td>tests.yml</td>\n      <td>Tests</td>\n      <td>push, pull_request</td>\n      <td>2</td>\n    </tr>\n    <tr>\n      <th>1</th>\n      <td>0101/pipetools</td>\n      <td>publish_docs.yml</td>\n      <td>Publish docs</td>\n      <td>push</td>\n      <td>1</td>\n    </tr>\n    <tr>\n      <th>2</th>\n      <td>05bit/peewee-async</td>\n      <td>ci.yml</td>\n      <td>CI</td>\n      <td>push, pull_request</td>\n      <td>1</td>\n    </tr>\n    <tr>\n      <th>3</th>\n      <td>07akioni/css-render</td>\n      <td>nodejs.yml</td>\n      <td>Node.js CI</td>\n      <td>push, pull_request</td>\n      <td>1</td>\n    </tr>\n    <tr>\n      <th>4</th>\n      <td>0b01001001/spectree</td>\n      <td>pythonpackage.yml</td>\n      <td>Python package</td>\n      <td>pull_request, push</td>\n      <td>2</td>\n    </tr>\n    <tr>\n      <th>...</th>\n      <td>...</td>\n      <td>...</td>\n      <td>...</td>\n      <td>...</td>\n      <td>...</td>\n    </tr>\n    <tr>\n      <th>70273</th>\n      <td>zzzeek/alembic</td>\n      <td>run-on-pr.yaml</td>\n      <td>Run tests on a pr</td>\n      <td>pull_request</td>\n      <td>2</td>\n    </tr>\n    <tr>\n      <th>70274</th>\n      <td>zzzeek/sqlalchemy</td>\n      <td>run-test.yaml</td>\n      <td>Run tests</td>\n      <td>push</td>\n      <td>4</td>\n    </tr>\n    <tr>\n      <th>70275</th>\n      <td>zzzeek/sqlalchemy</td>\n      <td>run-on-pr.yaml</td>\n      <td>Run tests on a pr</td>\n      <td>pull_request</td>\n      <td>3</td>\n    </tr>\n    <tr>\n      <th>70276</th>\n      <td>zzzeek/sqlalchemy</td>\n      <td>create-wheels.yaml</td>\n      <td>Create wheel</td>\n      <td>release</td>\n      <td>3</td>\n    </tr>\n    <tr>\n      <th>70277</th>\n      <td>zzzm/hostsx</td>\n      <td>main.yml</td>\n      <td>Deploy</td>\n      <td>push, workflow_dispatch</td>\n      <td>1</td>\n    </tr>\n  </tbody>\n</table>\n<p>70278 rows × 5 columns</p>\n</div>"
     },
     "execution_count": 7,
     "metadata": {},
     "output_type": "execute_result"
    }
   ],
   "source": [
    "events = df_workflows['events'].str.split(',').explode()\n",
    "events.unique()\n",
    "df_workflows.explode('events')"
   ]
  },
  {
   "cell_type": "code",
   "execution_count": 8,
   "id": "e59e160b-1a7f-44f3-9fe2-0507d3eeed62",
   "metadata": {},
   "outputs": [
    {
     "data": {
      "text/plain": "                repository             filename                  name  \\\n0           0101/pipetools            tests.yml                 Tests   \n1           0101/pipetools     publish_docs.yml          Publish docs   \n2       05bit/peewee-async               ci.yml                    CI   \n3      07akioni/css-render           nodejs.yml            Node.js CI   \n4      0b01001001/spectree    pythonpackage.yml        Python package   \n...                    ...                  ...                   ...   \n69924     zhongantech/zarm           mirror.yml  Sync mirror to Gitee   \n70033       znck/grammarly              ci.yaml                 CI/CD   \n70123     zsh35/jd_scripts      update_list.yml           update_list   \n70124     zsh35/jd_scripts        repo_sync.yml  sync-LXK9301-scripts   \n70125     zsh35/jd_scripts  update_ios_task.yml       update_ios_task   \n\n                                                  events  jobs  \n0                                     push, pull_request     2  \n1                                                   push     1  \n2                                     push, pull_request     1  \n3                                     push, pull_request     1  \n4                                     pull_request, push     2  \n...                                                  ...   ...  \n69924                                       delete, push     1  \n70033     workflow_dispatch, pull_request, release, push     2  \n70123       workflow_dispatch, repository_dispatch, push     1  \n70124  schedule, workflow_dispatch, watch, push, repo...     1  \n70125       workflow_dispatch, repository_dispatch, push     1  \n\n[1310 rows x 5 columns]",
      "text/html": "<div>\n<style scoped>\n    .dataframe tbody tr th:only-of-type {\n        vertical-align: middle;\n    }\n\n    .dataframe tbody tr th {\n        vertical-align: top;\n    }\n\n    .dataframe thead th {\n        text-align: right;\n    }\n</style>\n<table border=\"1\" class=\"dataframe\">\n  <thead>\n    <tr style=\"text-align: right;\">\n      <th></th>\n      <th>repository</th>\n      <th>filename</th>\n      <th>name</th>\n      <th>events</th>\n      <th>jobs</th>\n    </tr>\n  </thead>\n  <tbody>\n    <tr>\n      <th>0</th>\n      <td>0101/pipetools</td>\n      <td>tests.yml</td>\n      <td>Tests</td>\n      <td>push, pull_request</td>\n      <td>2</td>\n    </tr>\n    <tr>\n      <th>1</th>\n      <td>0101/pipetools</td>\n      <td>publish_docs.yml</td>\n      <td>Publish docs</td>\n      <td>push</td>\n      <td>1</td>\n    </tr>\n    <tr>\n      <th>2</th>\n      <td>05bit/peewee-async</td>\n      <td>ci.yml</td>\n      <td>CI</td>\n      <td>push, pull_request</td>\n      <td>1</td>\n    </tr>\n    <tr>\n      <th>3</th>\n      <td>07akioni/css-render</td>\n      <td>nodejs.yml</td>\n      <td>Node.js CI</td>\n      <td>push, pull_request</td>\n      <td>1</td>\n    </tr>\n    <tr>\n      <th>4</th>\n      <td>0b01001001/spectree</td>\n      <td>pythonpackage.yml</td>\n      <td>Python package</td>\n      <td>pull_request, push</td>\n      <td>2</td>\n    </tr>\n    <tr>\n      <th>...</th>\n      <td>...</td>\n      <td>...</td>\n      <td>...</td>\n      <td>...</td>\n      <td>...</td>\n    </tr>\n    <tr>\n      <th>69924</th>\n      <td>zhongantech/zarm</td>\n      <td>mirror.yml</td>\n      <td>Sync mirror to Gitee</td>\n      <td>delete, push</td>\n      <td>1</td>\n    </tr>\n    <tr>\n      <th>70033</th>\n      <td>znck/grammarly</td>\n      <td>ci.yaml</td>\n      <td>CI/CD</td>\n      <td>workflow_dispatch, pull_request, release, push</td>\n      <td>2</td>\n    </tr>\n    <tr>\n      <th>70123</th>\n      <td>zsh35/jd_scripts</td>\n      <td>update_list.yml</td>\n      <td>update_list</td>\n      <td>workflow_dispatch, repository_dispatch, push</td>\n      <td>1</td>\n    </tr>\n    <tr>\n      <th>70124</th>\n      <td>zsh35/jd_scripts</td>\n      <td>repo_sync.yml</td>\n      <td>sync-LXK9301-scripts</td>\n      <td>schedule, workflow_dispatch, watch, push, repo...</td>\n      <td>1</td>\n    </tr>\n    <tr>\n      <th>70125</th>\n      <td>zsh35/jd_scripts</td>\n      <td>update_ios_task.yml</td>\n      <td>update_ios_task</td>\n      <td>workflow_dispatch, repository_dispatch, push</td>\n      <td>1</td>\n    </tr>\n  </tbody>\n</table>\n<p>1310 rows × 5 columns</p>\n</div>"
     },
     "execution_count": 8,
     "metadata": {},
     "output_type": "execute_result"
    }
   ],
   "source": [
    "e=df_workflows.groupby(['events'])\n",
    "e.head()"
   ]
  },
  {
   "cell_type": "code",
   "execution_count": 9,
   "id": "d02dc31f-30e2-472f-aa54-f8567ebf19e4",
   "metadata": {},
   "outputs": [
    {
     "data": {
      "text/plain": "events\nbranch_protection_rule, schedule, push                                                                                                                                                                                                                                                       0.001110\nbranch_protection_rule, schedule, push, pull_request                                                                                                                                                                                                                                         0.000101\ncheck_run                                                                                                                                                                                                                                                                                    0.000303\ncheck_run, check_suite, create, delete, deployment, deployment_status, fork, gollum, issue_comment, issues, label, milestone, page_build, project, project_card, project_column, public, pull_request_target, push, registry_package, release, status, watch, schedule, workflow_dispatch    0.000101\ncheck_run, check_suite, create, delete, deployment, deployment_status, fork, gollum, issue_comment, issues, label, milestone, page_build, project, project_card, project_column, public, push, registry_package, release, watch                                                              0.000101\n                                                                                                                                                                                                                                                                                               ...   \nworkflow_run, release, workflow_dispatch                                                                                                                                                                                                                                                     0.000101\nworkflow_run, schedule                                                                                                                                                                                                                                                                       0.000101\nworkflow_run, workflow_call                                                                                                                                                                                                                                                                  0.000101\nworkflow_run, workflow_dispatch                                                                                                                                                                                                                                                              0.002926\nworkflow_run, workflow_dispatch, schedule                                                                                                                                                                                                                                                    0.000101\nLength: 460, dtype: float64"
     },
     "execution_count": 9,
     "metadata": {},
     "output_type": "execute_result"
    }
   ],
   "source": [
    "a = df_workflows.groupby(['events']).size() / f.size\n",
    "a*100"
   ]
  },
  {
   "cell_type": "code",
   "execution_count": 10,
   "outputs": [
    {
     "data": {
      "text/plain": "                      repository               filename  \\\n47836  phpdocker-io/phpdocker.io            deploy.yaml   \n14679       dekkerglen/cubecobra         dev_deploy.yml   \n8687             bunit-dev/bunit    release-preview.yml   \n60602               sveltejs/kit    update_template.yml   \n13562          danbooru/danbooru              test.yaml   \n...                          ...                    ...   \n64598                 uber/orbit  post-merge-build.yaml   \n65727         vector-ai/vectorai     python-publish.yml   \n65732        vector-ai/vectorhub     nightly-upload.yml   \n65733        vector-ai/vectorhub      update_badges.yml   \n69584       zakkg3/clustersecret      on_tag_build.yaml   \n\n                              name                                     events  \\\n47836           Deploy application  workflow_run, workflow_dispatch, schedule   \n14679  Deploy master to dev server            workflow_run, workflow_dispatch   \n8687               release-preview            workflow_run, workflow_dispatch   \n60602              Update Template            workflow_run, workflow_dispatch   \n13562                         Test            workflow_run, workflow_dispatch   \n...                            ...                                        ...   \n64598                          NaN                                        NaN   \n65727                          NaN                                        NaN   \n65732                          NaN                                        NaN   \n65733                          NaN                                        NaN   \n69584                          NaN                                        NaN   \n\n       jobs  \n47836     1  \n14679     1  \n8687      1  \n60602     1  \n13562     1  \n...     ...  \n64598     0  \n65727     0  \n65732     0  \n65733     0  \n69584     0  \n\n[70278 rows x 5 columns]",
      "text/html": "<div>\n<style scoped>\n    .dataframe tbody tr th:only-of-type {\n        vertical-align: middle;\n    }\n\n    .dataframe tbody tr th {\n        vertical-align: top;\n    }\n\n    .dataframe thead th {\n        text-align: right;\n    }\n</style>\n<table border=\"1\" class=\"dataframe\">\n  <thead>\n    <tr style=\"text-align: right;\">\n      <th></th>\n      <th>repository</th>\n      <th>filename</th>\n      <th>name</th>\n      <th>events</th>\n      <th>jobs</th>\n    </tr>\n  </thead>\n  <tbody>\n    <tr>\n      <th>47836</th>\n      <td>phpdocker-io/phpdocker.io</td>\n      <td>deploy.yaml</td>\n      <td>Deploy application</td>\n      <td>workflow_run, workflow_dispatch, schedule</td>\n      <td>1</td>\n    </tr>\n    <tr>\n      <th>14679</th>\n      <td>dekkerglen/cubecobra</td>\n      <td>dev_deploy.yml</td>\n      <td>Deploy master to dev server</td>\n      <td>workflow_run, workflow_dispatch</td>\n      <td>1</td>\n    </tr>\n    <tr>\n      <th>8687</th>\n      <td>bunit-dev/bunit</td>\n      <td>release-preview.yml</td>\n      <td>release-preview</td>\n      <td>workflow_run, workflow_dispatch</td>\n      <td>1</td>\n    </tr>\n    <tr>\n      <th>60602</th>\n      <td>sveltejs/kit</td>\n      <td>update_template.yml</td>\n      <td>Update Template</td>\n      <td>workflow_run, workflow_dispatch</td>\n      <td>1</td>\n    </tr>\n    <tr>\n      <th>13562</th>\n      <td>danbooru/danbooru</td>\n      <td>test.yaml</td>\n      <td>Test</td>\n      <td>workflow_run, workflow_dispatch</td>\n      <td>1</td>\n    </tr>\n    <tr>\n      <th>...</th>\n      <td>...</td>\n      <td>...</td>\n      <td>...</td>\n      <td>...</td>\n      <td>...</td>\n    </tr>\n    <tr>\n      <th>64598</th>\n      <td>uber/orbit</td>\n      <td>post-merge-build.yaml</td>\n      <td>NaN</td>\n      <td>NaN</td>\n      <td>0</td>\n    </tr>\n    <tr>\n      <th>65727</th>\n      <td>vector-ai/vectorai</td>\n      <td>python-publish.yml</td>\n      <td>NaN</td>\n      <td>NaN</td>\n      <td>0</td>\n    </tr>\n    <tr>\n      <th>65732</th>\n      <td>vector-ai/vectorhub</td>\n      <td>nightly-upload.yml</td>\n      <td>NaN</td>\n      <td>NaN</td>\n      <td>0</td>\n    </tr>\n    <tr>\n      <th>65733</th>\n      <td>vector-ai/vectorhub</td>\n      <td>update_badges.yml</td>\n      <td>NaN</td>\n      <td>NaN</td>\n      <td>0</td>\n    </tr>\n    <tr>\n      <th>69584</th>\n      <td>zakkg3/clustersecret</td>\n      <td>on_tag_build.yaml</td>\n      <td>NaN</td>\n      <td>NaN</td>\n      <td>0</td>\n    </tr>\n  </tbody>\n</table>\n<p>70278 rows × 5 columns</p>\n</div>"
     },
     "execution_count": 10,
     "metadata": {},
     "output_type": "execute_result"
    }
   ],
   "source": [
    "b = df_workflows.sort_values(['events'], ascending=False)\n",
    "b"
   ],
   "metadata": {
    "collapsed": false
   }
  },
  {
   "cell_type": "code",
   "execution_count": null,
   "outputs": [],
   "source": [
    "c = df_workflows.sort_values(['events'], ascending=False).cumsum()\n",
    "c"
   ],
   "metadata": {
    "collapsed": false,
    "pycharm": {
     "is_executing": true
    }
   }
  },
  {
   "cell_type": "markdown",
   "id": "e192a0c2-d914-462b-b1c3-e47c2d1ecd50",
   "metadata": {},
   "source": [
    "## Research Question 3\n",
    "\n",
    "The GitHub Actions marketplace classifies all published actions in a predefined set of categories (e.g., api-management, continuous-integration, publishing, utilities)\n",
    "Each action has a required primary category and an optional secondary category.\n",
    "\n",
    "### What is the number and proportion of GitHub Actions that can be found in each category?"
   ]
  },
  {
   "cell_type": "code",
   "execution_count": null,
   "id": "b982c7ff-5dc6-465b-a34f-bc1094db5a06",
   "metadata": {
    "tags": [],
    "pycharm": {
     "is_executing": true
    }
   },
   "outputs": [],
   "source": [
    "## The third dataset we will use contains information about GitHub Actions that are published in GitHub marketplace.\n",
    "\n",
    "df_actions = (\n",
    "    pd.read_csv('../datasets/actions.csv')\n",
    "    .assign(category=lambda d:d.apply(lambda s: eval(s.categories), axis=1))\n",
    "    [['actions','category','stars','open_issues','pull_requests']]\n",
    ")\n",
    "df_actions"
   ]
  },
  {
   "cell_type": "markdown",
   "id": "8ddc4d6b-1874-486d-bbe6-8960eadbe221",
   "metadata": {},
   "source": [
    "### Requirements : \n",
    "#### 1-Create a new column that contains the primary category of the action\n",
    "#### 2-Quantify the number of actions grouped by primary category\n",
    "#### 3-Quantify the proportion of action grouped by primary category\n",
    "#### 4-Visualise this proportion by means of a pie chart showing the 5 most frequent categories and collapsing all other categories into \"others\".\n",
    "    Hint: For information about pie charts, see https://matplotlib.org/stable/gallery/pie_and_polar_charts/pie_features.html and https://stackoverflow.com/questions/48587997/matplotlib-pie-graph-with-all-other-categories"
   ]
  },
  {
   "cell_type": "code",
   "execution_count": null,
   "id": "7ce684fd-ee0e-4a64-bac5-db3a6eb4a3fb",
   "metadata": {
    "pycharm": {
     "is_executing": true
    }
   },
   "outputs": [],
   "source": [
    "df_actions['primary_category'] = df_actions['category'].apply(lambda x: x[0])\n",
    "df_actions"
   ]
  },
  {
   "cell_type": "code",
   "execution_count": null,
   "id": "dfb11ef7-7610-4d6a-8e1f-914812611131",
   "metadata": {
    "pycharm": {
     "is_executing": true
    }
   },
   "outputs": [],
   "source": [
    "df_actions.groupby('primary_category').size()"
   ]
  },
  {
   "cell_type": "code",
   "execution_count": null,
   "id": "b86ec8cb-fd3c-4d78-b832-ee5790bad7bf",
   "metadata": {
    "pycharm": {
     "is_executing": true
    }
   },
   "outputs": [],
   "source": [
    "num = df_actions.groupby('primary_category').size()\n",
    "den = df_actions.groupby('primary_category').size().sum()\n",
    "(num/den)*100\n",
    "\n",
    "df_actions.groupby('primary_category').size().sort_values(ascending=False).head(5).plot.pie()\n"
   ]
  }
 ],
 "metadata": {
  "kernelspec": {
   "display_name": "Python 3 (ipykernel)",
   "language": "python",
   "name": "python3"
  },
  "language_info": {
   "codemirror_mode": {
    "name": "ipython",
    "version": 3
   },
   "file_extension": ".py",
   "mimetype": "text/x-python",
   "name": "python",
   "nbconvert_exporter": "python",
   "pygments_lexer": "ipython3",
   "version": "3.10.6"
  }
 },
 "nbformat": 4,
 "nbformat_minor": 5
}
