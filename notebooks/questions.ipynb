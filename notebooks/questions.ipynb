{
 "cells": [
  {
   "cell_type": "code",
   "execution_count": null,
   "id": "c498b2ba-230d-43c5-b0fe-ff70db789112",
   "metadata": {
    "pycharm": {
     "is_executing": true
    }
   },
   "outputs": [],
   "source": [
    "import pandas as pd\n",
    "import numpy as np\n",
    "import matplotlib.pyplot as plt"
   ]
  },
  {
   "cell_type": "markdown",
   "id": "5ebecced-f90d-47ac-aa9e-4bb20298a084",
   "metadata": {},
   "source": [
    "## Research Question 1\n",
    "### What is the number and proportion of GitHub repositories that are using GitHub Actions workflows, categorized by their main programming language?"
   ]
  },
  {
   "cell_type": "code",
   "execution_count": null,
   "id": "4e076225-56db-4a8f-b081-8befc24c14f2",
   "metadata": {
    "tags": [],
    "pycharm": {
     "is_executing": true
    }
   },
   "outputs": [],
   "source": [
    "## The first dataset we will use contains information about GitHub repositories that make use of GitHub Actions workflows.\n",
    "\n",
    "df_repositories = pd.read_csv('../datasets/repositories.csv')\n",
    "df_repositories"
   ]
  },
  {
   "cell_type": "markdown",
   "id": "870533f4-7ba6-49b3-ae5c-cfa4f2f9b1ca",
   "metadata": {},
   "source": [
    "### Requirements : \n",
    "#### 1-First, preprocess the dataset by filtering on repositories with at least 100 stars AND more than 1 contributors\n",
    "#### 2-Quantify the number of repositories, grouped by language\n",
    "    Hint: Use the groupby operation from pandas. See https://pandas.pydata.org/docs/reference/api/pandas.DataFrame.groupby.html\n",
    "#### 3-Quantify the proportion of repositories per language\n",
    "    Hint: proportion per langage = number of repositories per language / total number of repositories"
   ]
  },
  {
   "cell_type": "code",
   "execution_count": null,
   "id": "b2f528cc-11ab-4d94-b90a-e1000fdaddb2",
   "metadata": {
    "pycharm": {
     "is_executing": true
    }
   },
   "outputs": [],
   "source": [
    "f = df_repositories[df_repositories['stars']>100]\n",
    "f = df_repositories[df_repositories['contributors']>1]\n",
    "f"
   ]
  },
  {
   "cell_type": "code",
   "execution_count": null,
   "id": "c19a2f42-569a-4b14-8268-db56a17995f3",
   "metadata": {
    "pycharm": {
     "is_executing": true
    }
   },
   "outputs": [],
   "source": [
    "g = f.groupby(['language']).size()\n",
    "h = f.groupby(['language']).size().sum()\n",
    "(g/h) * 100"
   ]
  },
  {
   "cell_type": "code",
   "execution_count": null,
   "id": "d4be220f-5d05-4aa4-845a-34af3e2bde50",
   "metadata": {
    "pycharm": {
     "is_executing": true
    }
   },
   "outputs": [],
   "source": [
    "a = f.groupby(['language']).size() / f.size\n",
    "a*100"
   ]
  },
  {
   "cell_type": "markdown",
   "id": "96f191f9-fb2e-48f2-b68d-8e42fb1a96d3",
   "metadata": {
    "tags": []
   },
   "source": [
    "## Research Question 2\n",
    "### What are the top 10 most frequent events that trigger workflows, and what is the proportion of workflows using them?"
   ]
  },
  {
   "cell_type": "code",
   "execution_count": null,
   "id": "4a2b4e3d-0d1e-4da9-83e3-2c7e8aae2674",
   "metadata": {
    "tags": [],
    "pycharm": {
     "is_executing": true
    }
   },
   "outputs": [],
   "source": [
    "## The second dataset we will use contains information about GitHub workflows, each reposity may define one or more workflows.\n",
    "\n",
    "df_workflows = pd.read_csv('../datasets/workflows.csv')\n",
    "df_workflows"
   ]
  },
  {
   "cell_type": "markdown",
   "id": "ddd141f7-c2c5-4bc1-830d-54c781068063",
   "metadata": {},
   "source": [
    "### Requirements : \n",
    "#### 1-Split the events column (containig the triggers) and explode it \n",
    "    Hint: For the split function, see https://www.geeksforgeeks.org/python-string-split/\n",
    "    For the explode function, see https://pandas.pydata.org/docs/reference/api/pandas.DataFrame.explode.html\n",
    "#### 2-Quantify the number of workflows grouped by event\n",
    "#### 3-Quantify the proportion of workflows grouped by event\n",
    "    Hint: proportion per event = number of workflows per event / total number of workflows\n",
    "#### 4-Sort all events in decreasing order of proportion\n",
    "#### 5-Using the order of step 4, quantify the cumulative proportion of workflows\n",
    "    Hint: The cumulative proportion is calculated by dividing the cumulative frequency by the total frequency.\n",
    "    See, for example, https://www.geeksforgeeks.org/cumulative-percentage-of-a-column-in-pandas-python/"
   ]
  },
  {
   "cell_type": "code",
   "execution_count": null,
   "id": "20aa3c92-1802-4dce-9050-6c14b0f6c1d6",
   "metadata": {
    "pycharm": {
     "is_executing": true
    }
   },
   "outputs": [],
   "source": [
    "events = df_workflows['events'].str.split(',').explode()\n",
    "events.unique()\n",
    "df_workflows.explode('events')"
   ]
  },
  {
   "cell_type": "code",
   "execution_count": null,
   "id": "e59e160b-1a7f-44f3-9fe2-0507d3eeed62",
   "metadata": {
    "pycharm": {
     "is_executing": true
    }
   },
   "outputs": [],
   "source": [
    "e=df_workflows.groupby(['events'])\n",
    "e.head()"
   ]
  },
  {
   "cell_type": "code",
   "execution_count": null,
   "id": "d02dc31f-30e2-472f-aa54-f8567ebf19e4",
   "metadata": {
    "pycharm": {
     "is_executing": true
    }
   },
   "outputs": [],
   "source": [
    "a = df_workflows.groupby(['events']).size() / f.size\n",
    "a*100"
   ]
  },
  {
   "cell_type": "code",
   "execution_count": null,
   "outputs": [],
   "source": [
    "b = df_workflows.sort_values(['jobs'], ascending=False)\n",
    "b"
   ],
   "metadata": {
    "collapsed": false,
    "pycharm": {
     "is_executing": true
    }
   }
  },
  {
   "cell_type": "code",
   "execution_count": null,
   "outputs": [],
   "source": [
    "c = df_workflows.sort_values(['jobs'], ascending=False).cumsum()\n",
    "c"
   ],
   "metadata": {
    "collapsed": false,
    "pycharm": {
     "is_executing": true
    }
   }
  },
  {
   "cell_type": "markdown",
   "id": "e192a0c2-d914-462b-b1c3-e47c2d1ecd50",
   "metadata": {},
   "source": [
    "## Research Question 3\n",
    "\n",
    "The GitHub Actions marketplace classifies all published actions in a predefined set of categories (e.g., api-management, continuous-integration, publishing, utilities)\n",
    "Each action has a required primary category and an optional secondary category.\n",
    "\n",
    "### What is the number and proportion of GitHub Actions that can be found in each category?"
   ]
  },
  {
   "cell_type": "code",
   "execution_count": null,
   "id": "b982c7ff-5dc6-465b-a34f-bc1094db5a06",
   "metadata": {
    "tags": [],
    "pycharm": {
     "is_executing": true
    }
   },
   "outputs": [],
   "source": [
    "## The third dataset we will use contains information about GitHub Actions that are published in GitHub marketplace.\n",
    "\n",
    "df_actions = (\n",
    "    pd.read_csv('../datasets/actions.csv')\n",
    "    .assign(category=lambda d:d.apply(lambda s: eval(s.categories), axis=1))\n",
    "    [['actions','category','stars','open_issues','pull_requests']]\n",
    ")\n",
    "df_actions"
   ]
  },
  {
   "cell_type": "markdown",
   "id": "8ddc4d6b-1874-486d-bbe6-8960eadbe221",
   "metadata": {},
   "source": [
    "### Requirements : \n",
    "#### 1-Create a new column that contains the primary category of the action\n",
    "#### 2-Quantify the number of actions grouped by primary category\n",
    "#### 3-Quantify the proportion of action grouped by primary category\n",
    "#### 4-Visualise this proportion by means of a pie chart showing the 5 most frequent categories and collapsing all other categories into \"others\".\n",
    "    Hint: For information about pie charts, see https://matplotlib.org/stable/gallery/pie_and_polar_charts/pie_features.html and https://stackoverflow.com/questions/48587997/matplotlib-pie-graph-with-all-other-categories"
   ]
  },
  {
   "cell_type": "code",
   "execution_count": null,
   "id": "7ce684fd-ee0e-4a64-bac5-db3a6eb4a3fb",
   "metadata": {
    "pycharm": {
     "is_executing": true
    }
   },
   "outputs": [],
   "source": []
  },
  {
   "cell_type": "code",
   "execution_count": null,
   "id": "dfb11ef7-7610-4d6a-8e1f-914812611131",
   "metadata": {
    "pycharm": {
     "is_executing": true
    }
   },
   "outputs": [],
   "source": []
  },
  {
   "cell_type": "code",
   "execution_count": null,
   "id": "b86ec8cb-fd3c-4d78-b832-ee5790bad7bf",
   "metadata": {
    "pycharm": {
     "is_executing": true
    }
   },
   "outputs": [],
   "source": []
  }
 ],
 "metadata": {
  "kernelspec": {
   "display_name": "Python 3 (ipykernel)",
   "language": "python",
   "name": "python3"
  },
  "language_info": {
   "codemirror_mode": {
    "name": "ipython",
    "version": 3
   },
   "file_extension": ".py",
   "mimetype": "text/x-python",
   "name": "python",
   "nbconvert_exporter": "python",
   "pygments_lexer": "ipython3",
   "version": "3.10.6"
  }
 },
 "nbformat": 4,
 "nbformat_minor": 5
}
